{
 "cells": [
  {
   "cell_type": "markdown",
   "id": "c61ade90",
   "metadata": {},
   "source": [
    "## This notebook takes all dataset generated, create AnnData Object for single-cell analysis"
   ]
  },
  {
   "cell_type": "code",
   "execution_count": 23,
   "id": "ce68f908",
   "metadata": {},
   "outputs": [],
   "source": [
    "# analyze features\n",
    "import scanpy as sc\n",
    "import pandas as pd\n",
    "import seaborn as sns\n",
    "import math\n",
    "import random\n",
    "import matplotlib.pyplot as plt\n",
    "import matplotlib.patches as patches\n",
    "from pathlib import Path\n",
    "import numpy as np\n",
    "import os\n",
    "import sys\n",
    "import glob\n",
    "from imageio import volread as imread\n",
    "from skimage.filters import threshold_otsu\n",
    "\n",
    "from skimage import measure\n",
    "from scipy import stats\n",
    "import umap\n",
    "from sklearn.decomposition import PCA\n",
    "import math\n",
    "from scipy import stats\n",
    "from statsmodels.stats.outliers_influence import variance_inflation_factor\n",
    "from scipy.cluster.hierarchy import linkage, dendrogram, fcluster\n",
    "from scipy.spatial.distance import squareform\n",
    "\n",
    "import dcor\n",
    "import pickle\n",
    "from scipy.spatial.distance import euclidean"
   ]
  },
  {
   "cell_type": "code",
   "execution_count": 3,
   "id": "90f2ab8c",
   "metadata": {},
   "outputs": [
    {
     "name": "stdout",
     "output_type": "stream",
     "text": [
      "STD1_D10 ../101222_D10_Coverslip1_Processed/adata_Cellpose/Coverslip1_adata_Cellpose.h5ad\n",
      "STD2_D10 ../102222_D10_Coverslip4_Reimage_Processed/adata_Cellpose/Coverslip4_adata_Cellpose.h5ad\n",
      "-AO1_D10 ../102022_D10_Coverslip2_Reimage_Processed/adata_Cellpose/Coverslip2_adata_Cellpose.h5ad\n",
      "-BNF1_D10 ../101422_D10_Coverslip3_Processed/adata_Cellpose/Coverslip3_adata_Cellpose_Processed.h5ad\n",
      "STD1_D21 ../102422_D21_Coverslip7_Processed/adata_Cellpose/Coverslip7_adata_Cellpose_Processed.h5ad\n",
      "-AO1_D21 ../102522_D21_Coverslip8_Processed/adata_Cellpose/Coverslip8_adata_Cellpose_Processed.h5ad\n",
      "-BNF1_D21 ../102622_D21_Coverslip9_Processed/adata_Cellpose/Coverslip9_adata_Cellpose_Processed.h5ad\n",
      "-AO2_D21 ../102822_D21_Coverslip11_Processed/adata_Cellpose/Coverslip11_adata_Cellpose_Processed.h5ad\n",
      "-BNF2_D21 ../102922_D21_Coverslip12_Processed/adata_Cellpose/Coverslip12_adata_Cellpose_Processed.h5ad\n",
      "STD1_D28 ../103122_D28_Coverslip13_Processed/adata_Cellpose/Coverslip13_adata_Cellpose_Processed.h5ad\n",
      "-AO1_D28 ../110122_D28_Coverslip14_Processed/adata_Cellpose/Coverslip14_adata_Cellpose_Processed.h5ad\n",
      "-BNF1_D28 ../110222_D28_Coverslip15_Processed/adata_Cellpose/Coverslip15_adata_Cellpose_Processed.h5ad\n",
      "STD2_D28 ../110622_D28_Coverslip16_Processed/adata_Cellpose/Coverslip16_adata_Cellpose_Processed.h5ad\n",
      "-AO2_D28 ../110322_D28_Coverslip17_Processed/adata_Cellpose/Coverslip17_adata_Cellpose_Processed.h5ad\n",
      "-BNF2_D28 ../110722_D28_Coverslip18_Processed/adata_Cellpose/Coverslip18_adata_Cellpose_Processed.h5ad\n"
     ]
    }
   ],
   "source": [
    "# in previous processing dataset, raw layers are gone, so reprocessing it\n",
    "adatas = {}\n",
    "DATA_DIRs = ['101222_D10_Coverslip1_Processed', '102222_D10_Coverslip4_Reimage_Processed', \n",
    "            '102022_D10_Coverslip2_Reimage_Processed',\n",
    "            '101422_D10_Coverslip3_Processed'] \n",
    "print('STD1_D10', f'../{DATA_DIRs[0]}/adata_Cellpose/Coverslip1_adata_Cellpose.h5ad')\n",
    "adatas['STD1_D10'] = sc.read(f'../{DATA_DIRs[0]}/adata_Cellpose/Coverslip1_adata_Cellpose_Processed.h5ad')\n",
    "\n",
    "print('STD2_D10', f'../{DATA_DIRs[1]}/adata_Cellpose/Coverslip4_adata_Cellpose.h5ad')\n",
    "adatas['STD2_D10'] = sc.read(f'../{DATA_DIRs[1]}/adata_Cellpose/Coverslip4_adata_Cellpose_Processed.h5ad')\n",
    "\n",
    "print('-AO1_D10', f'../{DATA_DIRs[2]}/adata_Cellpose/Coverslip2_adata_Cellpose.h5ad')\n",
    "adatas['-AO1_D10'] = sc.read(f'../{DATA_DIRs[2]}/adata_Cellpose/Coverslip2_adata_Cellpose_Processed.h5ad')\n",
    "\n",
    "#print('-AO2_D10', f'{SAMPLE}/{DATA_DIRs[3]}/adata_Cellpose/Coverslip5_adata_Cellpose_Subset.h5ad')\n",
    "#adatas['-AO2_D10'] = sc.read(f'{SAMPLE}/{DATA_DIRs[3]}/adata_Cellpose/Coverslip5_adata_Cellpose_Subset.h5ad') \n",
    "\n",
    "print('-BNF1_D10', f'../{DATA_DIRs[3]}/adata_Cellpose/Coverslip3_adata_Cellpose_Processed.h5ad')\n",
    "adatas['-BNF1_D10'] = sc.read(f'../{DATA_DIRs[3]}/adata_Cellpose/Coverslip3_adata_Cellpose_Processed.h5ad') \n",
    "\n",
    "DATA_DIRs = ['102422_D21_Coverslip7_Processed', '102522_D21_Coverslip8_Processed', \n",
    "            '102622_D21_Coverslip9_Processed', '102822_D21_Coverslip11_Processed',\n",
    "            '102922_D21_Coverslip12_Processed'] \n",
    "###################################################################################################\n",
    "ADATA_DIR = 'adata_Cellpose'\n",
    "# load adata for each coverslip\n",
    "print('STD1_D21', f'../{DATA_DIRs[0]}/adata_Cellpose/Coverslip7_adata_Cellpose_Processed.h5ad')\n",
    "adatas['STD1_D21'] = sc.read(f'../{DATA_DIRs[0]}/adata_Cellpose/Coverslip7_adata_Cellpose_Processed.h5ad')\n",
    "\n",
    "print('-AO1_D21', f'../{DATA_DIRs[1]}/adata_Cellpose/Coverslip8_adata_Cellpose_Processed.h5ad')\n",
    "adatas['-AO1_D21'] = sc.read(f'../{DATA_DIRs[1]}/adata_Cellpose/Coverslip8_adata_Cellpose_Processed.h5ad')\n",
    "\n",
    "print('-BNF1_D21', f'../{DATA_DIRs[2]}/adata_Cellpose/Coverslip9_adata_Cellpose_Processed.h5ad')\n",
    "adatas['-BNF1_D21'] = sc.read(f'../{DATA_DIRs[2]}/adata_Cellpose/Coverslip9_adata_Cellpose_Processed.h5ad')\n",
    "\n",
    "print('-AO2_D21', f'../{DATA_DIRs[3]}/adata_Cellpose/Coverslip11_adata_Cellpose_Processed.h5ad')\n",
    "adatas['-AO2_D21'] = sc.read(f'../{DATA_DIRs[3]}/adata_Cellpose/Coverslip11_adata_Cellpose_Processed.h5ad') \n",
    "\n",
    "print('-BNF2_D21', f'../{DATA_DIRs[4]}/adata_Cellpose/Coverslip12_adata_Cellpose_Processed.h5ad')\n",
    "adatas['-BNF2_D21'] = sc.read(f'../{DATA_DIRs[4]}/adata_Cellpose/Coverslip12_adata_Cellpose_Processed.h5ad') \n",
    "\n",
    "DATA_DIRs = ['103122_D28_Coverslip13_Processed', '110122_D28_Coverslip14_Processed', \n",
    "            '110222_D28_Coverslip15_Processed', '110622_D28_Coverslip16_Processed',\n",
    "            '110322_D28_Coverslip17_Processed', '110722_D28_Coverslip18_Processed'] \n",
    "ADATA_DIR = 'adata_Cellpose'\n",
    "###################################################################################################\n",
    "# load adata for each coverslip\n",
    "print('STD1_D28', f'../{DATA_DIRs[0]}/adata_Cellpose/Coverslip13_adata_Cellpose_Processed.h5ad')\n",
    "adatas['STD1_D28'] = sc.read(f'../{DATA_DIRs[0]}/adata_Cellpose/Coverslip13_adata_Cellpose_Processed.h5ad')\n",
    "\n",
    "print('-AO1_D28', f'../{DATA_DIRs[1]}/adata_Cellpose/Coverslip14_adata_Cellpose_Processed.h5ad')\n",
    "adatas['-AO1_D28'] = sc.read(f'../{DATA_DIRs[1]}/adata_Cellpose/Coverslip14_adata_Cellpose_Processed.h5ad')\n",
    "\n",
    "print('-BNF1_D28', f'../{DATA_DIRs[2]}/adata_Cellpose/Coverslip15_adata_Cellpose_Processed.h5ad')\n",
    "adatas['-BNF1_D28'] = sc.read(f'../{DATA_DIRs[2]}/adata_Cellpose/Coverslip15_adata_Cellpose_Processed.h5ad')\n",
    "\n",
    "print('STD2_D28', f'../{DATA_DIRs[3]}/adata_Cellpose/Coverslip16_adata_Cellpose_Processed.h5ad')\n",
    "adatas['STD2_D28'] = sc.read(f'../{DATA_DIRs[3]}/adata_Cellpose/Coverslip16_adata_Cellpose_Processed.h5ad')\n",
    "\n",
    "print('-AO2_D28', f'../{DATA_DIRs[4]}/adata_Cellpose/Coverslip17_adata_Cellpose_Processed.h5ad')\n",
    "adatas['-AO2_D28'] = sc.read(f'../{DATA_DIRs[4]}/adata_Cellpose/Coverslip17_adata_Cellpose_Processed.h5ad') \n",
    "\n",
    "print('-BNF2_D28', f'../{DATA_DIRs[5]}/adata_Cellpose/Coverslip18_adata_Cellpose_Processed.h5ad')\n",
    "adatas['-BNF2_D28'] = sc.read(f'../{DATA_DIRs[5]}/adata_Cellpose/Coverslip18_adata_Cellpose_Processed.h5ad') "
   ]
  },
  {
   "cell_type": "code",
   "execution_count": 4,
   "id": "ea5f551d",
   "metadata": {},
   "outputs": [
    {
     "name": "stdout",
     "output_type": "stream",
     "text": [
      "STD1_D10 ../101222_D10_Coverslip1_Processed/adata_Cellpose/Coverslip1_adata_Cellpose.h5ad\n",
      "STD2_D10 ../102222_D10_Coverslip4_Reimage_Processed/adata_Cellpose/Coverslip4_adata_Cellpose.h5ad\n"
     ]
    },
    {
     "name": "stderr",
     "output_type": "stream",
     "text": [
      "/Users/bkang/mambaforge/envs/imlab/lib/python3.9/site-packages/anndata/_core/anndata.py:121: ImplicitModificationWarning: Transforming to str index.\n",
      "  warnings.warn(\"Transforming to str index.\", ImplicitModificationWarning)\n",
      "/Users/bkang/mambaforge/envs/imlab/lib/python3.9/site-packages/anndata/_core/anndata.py:121: ImplicitModificationWarning: Transforming to str index.\n",
      "  warnings.warn(\"Transforming to str index.\", ImplicitModificationWarning)\n"
     ]
    },
    {
     "name": "stdout",
     "output_type": "stream",
     "text": [
      "-AO1_D10 ../102022_D10_Coverslip2_Reimage_Processed/adata_Cellpose/Coverslip2_adata_Cellpose.h5ad\n",
      "-BNF1_D10 ../101422_D10_Coverslip3_Processed/adata_Cellpose/Coverslip3_adata_Cellpose.h5ad\n"
     ]
    },
    {
     "name": "stderr",
     "output_type": "stream",
     "text": [
      "/Users/bkang/mambaforge/envs/imlab/lib/python3.9/site-packages/anndata/_core/anndata.py:121: ImplicitModificationWarning: Transforming to str index.\n",
      "  warnings.warn(\"Transforming to str index.\", ImplicitModificationWarning)\n",
      "/Users/bkang/mambaforge/envs/imlab/lib/python3.9/site-packages/anndata/_core/anndata.py:121: ImplicitModificationWarning: Transforming to str index.\n",
      "  warnings.warn(\"Transforming to str index.\", ImplicitModificationWarning)\n"
     ]
    },
    {
     "name": "stdout",
     "output_type": "stream",
     "text": [
      "STD1_D21 ../102422_D21_Coverslip7_Processed/adata_Cellpose/Coverslip7_adata_Cellpose.h5ad\n"
     ]
    },
    {
     "name": "stderr",
     "output_type": "stream",
     "text": [
      "/Users/bkang/mambaforge/envs/imlab/lib/python3.9/site-packages/anndata/_core/anndata.py:121: ImplicitModificationWarning: Transforming to str index.\n",
      "  warnings.warn(\"Transforming to str index.\", ImplicitModificationWarning)\n"
     ]
    },
    {
     "name": "stdout",
     "output_type": "stream",
     "text": [
      "-AO1_D21 ../102522_D21_Coverslip8_Processed/adata_Cellpose/Coverslip8_adata_Cellpose.h5ad\n",
      "-BNF1_D21 ../102622_D21_Coverslip9_Processed/adata_Cellpose/Coverslip9_adata_Cellpose.h5ad\n"
     ]
    },
    {
     "name": "stderr",
     "output_type": "stream",
     "text": [
      "/Users/bkang/mambaforge/envs/imlab/lib/python3.9/site-packages/anndata/_core/anndata.py:121: ImplicitModificationWarning: Transforming to str index.\n",
      "  warnings.warn(\"Transforming to str index.\", ImplicitModificationWarning)\n",
      "/Users/bkang/mambaforge/envs/imlab/lib/python3.9/site-packages/anndata/_core/anndata.py:121: ImplicitModificationWarning: Transforming to str index.\n",
      "  warnings.warn(\"Transforming to str index.\", ImplicitModificationWarning)\n"
     ]
    },
    {
     "name": "stdout",
     "output_type": "stream",
     "text": [
      "-AO2_D21 ../102822_D21_Coverslip11_Processed/adata_Cellpose/Coverslip11_adata_Cellpose.h5ad\n",
      "-BNF2_D21 ../102922_D21_Coverslip12_Processed/adata_Cellpose/Coverslip12_adata_Cellpose.h5ad\n"
     ]
    },
    {
     "name": "stderr",
     "output_type": "stream",
     "text": [
      "/Users/bkang/mambaforge/envs/imlab/lib/python3.9/site-packages/anndata/_core/anndata.py:121: ImplicitModificationWarning: Transforming to str index.\n",
      "  warnings.warn(\"Transforming to str index.\", ImplicitModificationWarning)\n",
      "/Users/bkang/mambaforge/envs/imlab/lib/python3.9/site-packages/anndata/_core/anndata.py:121: ImplicitModificationWarning: Transforming to str index.\n",
      "  warnings.warn(\"Transforming to str index.\", ImplicitModificationWarning)\n"
     ]
    },
    {
     "name": "stdout",
     "output_type": "stream",
     "text": [
      "STD1_D28 ../103122_D28_Coverslip13_Processed/adata_Cellpose/Coverslip13_adata_Cellpose.h5ad\n",
      "-AO1_D28 ../110122_D28_Coverslip14_Processed/adata_Cellpose/Coverslip14_adata_Cellpose.h5ad\n"
     ]
    },
    {
     "name": "stderr",
     "output_type": "stream",
     "text": [
      "/Users/bkang/mambaforge/envs/imlab/lib/python3.9/site-packages/anndata/_core/anndata.py:121: ImplicitModificationWarning: Transforming to str index.\n",
      "  warnings.warn(\"Transforming to str index.\", ImplicitModificationWarning)\n",
      "/Users/bkang/mambaforge/envs/imlab/lib/python3.9/site-packages/anndata/_core/anndata.py:121: ImplicitModificationWarning: Transforming to str index.\n",
      "  warnings.warn(\"Transforming to str index.\", ImplicitModificationWarning)\n"
     ]
    },
    {
     "name": "stdout",
     "output_type": "stream",
     "text": [
      "-BNF1_D28 ../110222_D28_Coverslip15_Processed/adata_Cellpose/Coverslip15_adata_Cellpose.h5ad\n",
      "STD2_D28 ../110622_D28_Coverslip16_Processed/adata_Cellpose/Coverslip16_adata_Cellpose.h5ad\n"
     ]
    },
    {
     "name": "stderr",
     "output_type": "stream",
     "text": [
      "/Users/bkang/mambaforge/envs/imlab/lib/python3.9/site-packages/anndata/_core/anndata.py:121: ImplicitModificationWarning: Transforming to str index.\n",
      "  warnings.warn(\"Transforming to str index.\", ImplicitModificationWarning)\n",
      "/Users/bkang/mambaforge/envs/imlab/lib/python3.9/site-packages/anndata/_core/anndata.py:121: ImplicitModificationWarning: Transforming to str index.\n",
      "  warnings.warn(\"Transforming to str index.\", ImplicitModificationWarning)\n"
     ]
    },
    {
     "name": "stdout",
     "output_type": "stream",
     "text": [
      "-AO2_D28 ../110322_D28_Coverslip17_Processed/adata_Cellpose/Coverslip17_adata_Cellpose.h5ad\n"
     ]
    },
    {
     "name": "stderr",
     "output_type": "stream",
     "text": [
      "/Users/bkang/mambaforge/envs/imlab/lib/python3.9/site-packages/anndata/_core/anndata.py:121: ImplicitModificationWarning: Transforming to str index.\n",
      "  warnings.warn(\"Transforming to str index.\", ImplicitModificationWarning)\n"
     ]
    },
    {
     "name": "stdout",
     "output_type": "stream",
     "text": [
      "-BNF2_D28 ../110722_D28_Coverslip18_Processed/adata_Cellpose/Coverslip18_adata_Cellpose.h5ad\n"
     ]
    },
    {
     "name": "stderr",
     "output_type": "stream",
     "text": [
      "/Users/bkang/mambaforge/envs/imlab/lib/python3.9/site-packages/anndata/_core/anndata.py:121: ImplicitModificationWarning: Transforming to str index.\n",
      "  warnings.warn(\"Transforming to str index.\", ImplicitModificationWarning)\n"
     ]
    }
   ],
   "source": [
    "# in previous processing dataset, raw layers are gone, so reprocessing it\n",
    "adatas_raw = {}\n",
    "DATA_DIRs = ['101222_D10_Coverslip1_Processed', '102222_D10_Coverslip4_Reimage_Processed', \n",
    "            '102022_D10_Coverslip2_Reimage_Processed',\n",
    "            '101422_D10_Coverslip3_Processed'] \n",
    "print('STD1_D10', f'../{DATA_DIRs[0]}/adata_Cellpose/Coverslip1_adata_Cellpose.h5ad')\n",
    "adatas_raw['STD1_D10'] = sc.read(f'../{DATA_DIRs[0]}/adata_Cellpose/Coverslip1_adata_Cellpose.h5ad')\n",
    "\n",
    "print('STD2_D10', f'../{DATA_DIRs[1]}/adata_Cellpose/Coverslip4_adata_Cellpose.h5ad')\n",
    "adatas_raw['STD2_D10'] = sc.read(f'../{DATA_DIRs[1]}/adata_Cellpose/Coverslip4_adata_Cellpose.h5ad')\n",
    "\n",
    "print('-AO1_D10', f'../{DATA_DIRs[2]}/adata_Cellpose/Coverslip2_adata_Cellpose.h5ad')\n",
    "adatas_raw['-AO1_D10'] = sc.read(f'../{DATA_DIRs[2]}/adata_Cellpose/Coverslip2_adata_Cellpose.h5ad')\n",
    "\n",
    "print('-BNF1_D10', f'../{DATA_DIRs[3]}/adata_Cellpose/Coverslip3_adata_Cellpose.h5ad')\n",
    "adatas_raw['-BNF1_D10'] = sc.read(f'../{DATA_DIRs[3]}/adata_Cellpose/Coverslip3_adata_Cellpose.h5ad') \n",
    "\n",
    "DATA_DIRs = ['102422_D21_Coverslip7_Processed', '102522_D21_Coverslip8_Processed', \n",
    "            '102622_D21_Coverslip9_Processed', '102822_D21_Coverslip11_Processed',\n",
    "            '102922_D21_Coverslip12_Processed'] \n",
    "###################################################################################################\n",
    "ADATA_DIR = 'adata_Cellpose'\n",
    "# load adata for each coverslip\n",
    "print('STD1_D21', f'../{DATA_DIRs[0]}/adata_Cellpose/Coverslip7_adata_Cellpose.h5ad')\n",
    "adatas_raw['STD1_D21'] = sc.read(f'../{DATA_DIRs[0]}/adata_Cellpose/Coverslip7_adata_Cellpose.h5ad')\n",
    "\n",
    "print('-AO1_D21', f'../{DATA_DIRs[1]}/adata_Cellpose/Coverslip8_adata_Cellpose.h5ad')\n",
    "adatas_raw['-AO1_D21'] = sc.read(f'../{DATA_DIRs[1]}/adata_Cellpose/Coverslip8_adata_Cellpose.h5ad')\n",
    "\n",
    "print('-BNF1_D21', f'../{DATA_DIRs[2]}/adata_Cellpose/Coverslip9_adata_Cellpose.h5ad')\n",
    "adatas_raw['-BNF1_D21'] = sc.read(f'../{DATA_DIRs[2]}/adata_Cellpose/Coverslip9_adata_Cellpose.h5ad')\n",
    "\n",
    "print('-AO2_D21', f'../{DATA_DIRs[3]}/adata_Cellpose/Coverslip11_adata_Cellpose.h5ad')\n",
    "adatas_raw['-AO2_D21'] = sc.read(f'../{DATA_DIRs[3]}/adata_Cellpose/Coverslip11_adata_Cellpose.h5ad') \n",
    "\n",
    "print('-BNF2_D21', f'../{DATA_DIRs[4]}/adata_Cellpose/Coverslip12_adata_Cellpose.h5ad')\n",
    "adatas_raw['-BNF2_D21'] = sc.read(f'../{DATA_DIRs[4]}/adata_Cellpose/Coverslip12_adata_Cellpose.h5ad') \n",
    "\n",
    "DATA_DIRs = ['103122_D28_Coverslip13_Processed', '110122_D28_Coverslip14_Processed', \n",
    "            '110222_D28_Coverslip15_Processed', '110622_D28_Coverslip16_Processed',\n",
    "            '110322_D28_Coverslip17_Processed', '110722_D28_Coverslip18_Processed'] \n",
    "ADATA_DIR = 'adata_Cellpose'\n",
    "###################################################################################################\n",
    "# load adata for each coverslip\n",
    "print('STD1_D28', f'../{DATA_DIRs[0]}/adata_Cellpose/Coverslip13_adata_Cellpose.h5ad')\n",
    "adatas_raw['STD1_D28'] = sc.read(f'../{DATA_DIRs[0]}/adata_Cellpose/Coverslip13_adata_Cellpose.h5ad')\n",
    "\n",
    "print('-AO1_D28', f'../{DATA_DIRs[1]}/adata_Cellpose/Coverslip14_adata_Cellpose.h5ad')\n",
    "adatas_raw['-AO1_D28'] = sc.read(f'../{DATA_DIRs[1]}/adata_Cellpose/Coverslip14_adata_Cellpose.h5ad')\n",
    "\n",
    "print('-BNF1_D28', f'../{DATA_DIRs[2]}/adata_Cellpose/Coverslip15_adata_Cellpose.h5ad')\n",
    "adatas_raw['-BNF1_D28'] = sc.read(f'../{DATA_DIRs[2]}/adata_Cellpose/Coverslip15_adata_Cellpose.h5ad')\n",
    "\n",
    "print('STD2_D28', f'../{DATA_DIRs[3]}/adata_Cellpose/Coverslip16_adata_Cellpose.h5ad')\n",
    "adatas_raw['STD2_D28'] = sc.read(f'../{DATA_DIRs[3]}/adata_Cellpose/Coverslip16_adata_Cellpose.h5ad')\n",
    "\n",
    "print('-AO2_D28', f'../{DATA_DIRs[4]}/adata_Cellpose/Coverslip17_adata_Cellpose.h5ad')\n",
    "adatas_raw['-AO2_D28'] = sc.read(f'../{DATA_DIRs[4]}/adata_Cellpose/Coverslip17_adata_Cellpose.h5ad') \n",
    "\n",
    "print('-BNF2_D28', f'../{DATA_DIRs[5]}/adata_Cellpose/Coverslip18_adata_Cellpose.h5ad')\n",
    "adatas_raw['-BNF2_D28'] = sc.read(f'../{DATA_DIRs[5]}/adata_Cellpose/Coverslip18_adata_Cellpose.h5ad') "
   ]
  },
  {
   "cell_type": "code",
   "execution_count": 5,
   "id": "93785e6d",
   "metadata": {},
   "outputs": [
    {
     "name": "stdout",
     "output_type": "stream",
     "text": [
      "filtered for non-varying features\n",
      "STD1_D10 (27394, 2150)\n",
      "STD2_D10 (18816, 2132)\n",
      "-AO1_D10 (26756, 2188)\n",
      "-BNF1_D10 (27921, 2243)\n",
      "STD1_D21 (20478, 1843)\n",
      "-AO1_D21 (24687, 1820)\n",
      "-BNF1_D21 (18527, 1951)\n",
      "-AO2_D21 (11747, 1940)\n",
      "-BNF2_D21 (8641, 1993)\n",
      "STD1_D28 (13606, 1969)\n",
      "-AO1_D28 (21159, 1770)\n",
      "-BNF1_D28 (22043, 1778)\n",
      "STD2_D28 (13536, 1916)\n",
      "-AO2_D28 (15651, 1347)\n",
      "-BNF2_D28 (13340, 1757)\n",
      "raw\n",
      "STD1_D10 (27394, 3009)\n",
      "STD2_D10 (18816, 3009)\n",
      "-AO1_D10 (26756, 3009)\n",
      "-BNF1_D10 (27921, 3009)\n",
      "STD1_D21 (20478, 3255)\n",
      "-AO1_D21 (24687, 3255)\n",
      "-BNF1_D21 (18527, 3255)\n",
      "-AO2_D21 (11747, 3255)\n",
      "-BNF2_D21 (8641, 3255)\n",
      "STD1_D28 (13606, 3255)\n",
      "-AO1_D28 (21159, 3255)\n",
      "-BNF1_D28 (22043, 3255)\n",
      "STD2_D28 (13536, 3255)\n",
      "-AO2_D28 (15651, 3255)\n",
      "-BNF2_D28 (13340, 3255)\n"
     ]
    }
   ],
   "source": [
    "# verify shape. These are prefiltered. check raw\n",
    "print('filtered for non-varying features')\n",
    "for key, adata in adatas.items():\n",
    "    print(key, adata.shape)\n",
    "print('raw')\n",
    "for key, adata in adatas.items():\n",
    "    print(key, adata.raw.shape)"
   ]
  },
  {
   "cell_type": "code",
   "execution_count": 6,
   "id": "93c27f9c",
   "metadata": {},
   "outputs": [
    {
     "name": "stdout",
     "output_type": "stream",
     "text": [
      "STD1_D10 (27394, 4117)\n",
      "STD2_D10 (18816, 4122)\n",
      "-AO1_D10 (26756, 4122)\n",
      "-BNF1_D10 (27921, 4120)\n",
      "STD1_D21 (20478, 4117)\n",
      "-AO1_D21 (24687, 4117)\n",
      "-BNF1_D21 (18527, 4122)\n",
      "-AO2_D21 (11747, 4122)\n",
      "-BNF2_D21 (8641, 4122)\n",
      "STD1_D28 (13606, 4119)\n",
      "-AO1_D28 (21159, 4115)\n",
      "-BNF1_D28 (22043, 4121)\n",
      "STD2_D28 (13536, 4118)\n",
      "-AO2_D28 (15651, 4114)\n",
      "-BNF2_D28 (13340, 4122)\n"
     ]
    }
   ],
   "source": [
    "for key, adata in adatas_raw.items():\n",
    "    print(key, adata.shape)"
   ]
  },
  {
   "cell_type": "code",
   "execution_count": 7,
   "id": "a3d8b753",
   "metadata": {},
   "outputs": [],
   "source": [
    "# mismatch in feature size for processed adata. Just take cell id from CODEX BS from processed, \n",
    "# filter features to 3255 features from raw\n"
   ]
  },
  {
   "cell_type": "code",
   "execution_count": 8,
   "id": "b5ee7233",
   "metadata": {},
   "outputs": [
    {
     "name": "stdout",
     "output_type": "stream",
     "text": [
      "before (27394, 4117)\n",
      "after (27394, 3255)\n",
      "before (18816, 4122)\n",
      "after (18816, 3255)\n",
      "before (26756, 4122)\n",
      "after (26756, 3255)\n",
      "before (27921, 4120)\n",
      "after (27921, 3255)\n",
      "before (20478, 4117)\n",
      "after (20478, 3255)\n",
      "before (24687, 4117)\n",
      "after (24687, 3255)\n",
      "before (18527, 4122)\n",
      "after (18527, 3255)\n",
      "before (11747, 4122)\n",
      "after (11747, 3255)\n",
      "before (8641, 4122)\n",
      "after (8641, 3255)\n",
      "before (13606, 4119)\n",
      "after (13606, 3255)\n",
      "before (21159, 4115)\n",
      "after (21159, 3255)\n",
      "before (22043, 4121)\n",
      "after (22043, 3255)\n",
      "before (13536, 4118)\n",
      "after (13536, 3255)\n",
      "before (15651, 4114)\n",
      "after (15651, 3255)\n",
      "before (13340, 4122)\n",
      "after (13340, 3255)\n"
     ]
    }
   ],
   "source": [
    "# remove problematic feature - correlation, euler, integrated, Std', 'MAD\n",
    "for key, adata in adatas_raw.items():\n",
    "    to_remove = []\n",
    "    print('before',adata.shape)\n",
    "    for feature in adata.var_names:\n",
    "        if 'Integrated' in feature:\n",
    "            to_remove.append(feature)\n",
    "        if 'Euler' in feature:\n",
    "            to_remove.append(feature)     \n",
    "        if 'Std' in feature:\n",
    "            to_remove.append(feature)\n",
    "        if 'MAD' in feature:\n",
    "            to_remove.append(feature)\n",
    "        if 'Correlation_Costes' in feature: # just remove costes and manders\n",
    "            to_remove.append(feature)\n",
    "        if 'GFAP' in feature:\n",
    "            to_remove.append(feature)\n",
    "        if 'fourHNE' in feature:\n",
    "            to_remove.append(feature)\n",
    "            \n",
    "    adata = adata[:, ~adata.var_names.isin(to_remove)]\n",
    "    print('after',adata.shape)\n",
    "    adatas_raw[key] = adata.copy() # update dictionary"
   ]
  },
  {
   "cell_type": "code",
   "execution_count": 9,
   "id": "ad0a759e",
   "metadata": {},
   "outputs": [
    {
     "name": "stdout",
     "output_type": "stream",
     "text": [
      "STD1_D10 (27394, 3255)\n",
      "STD2_D10 (18816, 3255)\n",
      "-AO1_D10 (26756, 3255)\n",
      "-BNF1_D10 (27921, 3255)\n",
      "STD1_D21 (20478, 3255)\n",
      "-AO1_D21 (24687, 3255)\n",
      "-BNF1_D21 (18527, 3255)\n",
      "-AO2_D21 (11747, 3255)\n",
      "-BNF2_D21 (8641, 3255)\n",
      "STD1_D28 (13606, 3255)\n",
      "-AO1_D28 (21159, 3255)\n",
      "-BNF1_D28 (22043, 3255)\n",
      "STD2_D28 (13536, 3255)\n",
      "-AO2_D28 (15651, 3255)\n",
      "-BNF2_D28 (13340, 3255)\n"
     ]
    }
   ],
   "source": [
    "for key, adata in adatas_raw.items():\n",
    "    print(key, adata.shape)"
   ]
  },
  {
   "cell_type": "code",
   "execution_count": 10,
   "id": "e1222f32",
   "metadata": {},
   "outputs": [
    {
     "name": "stdout",
     "output_type": "stream",
     "text": [
      "(11817, 3255)\n",
      "(11404, 3255)\n",
      "(18122, 3255)\n",
      "(13456, 3255)\n",
      "(11097, 3255)\n",
      "(8530, 3255)\n",
      "(9633, 3255)\n",
      "(6945, 3255)\n",
      "(5224, 3255)\n",
      "(8682, 3255)\n",
      "(10721, 3255)\n",
      "(15337, 3255)\n",
      "(9745, 3255)\n",
      "(7085, 3255)\n",
      "(8838, 3255)\n"
     ]
    }
   ],
   "source": [
    "# load cell id to keep - use processed adata for obs annotation.\n",
    "# 1 is good. refer to CellProfiler Analysis with Cellpose Segmentation 030923 and D21/D28\n",
    "cell_ids = {}\n",
    "for key, adata in adatas.items():\n",
    "    cell_ids[key] = adata[adata.obs.CODEX_BS==1].obs.index\n",
    "\n",
    "adatas_subset = {}\n",
    "for key, adata in adatas_raw.items():\n",
    "    adata_subset = adata[adata.obs.index.isin(cell_ids[key])] # subset from raw adata with positive signal cell id.\n",
    "    adatas_subset[key] = adata_subset.copy()\n",
    "    print(adatas_subset[key].shape)"
   ]
  },
  {
   "cell_type": "code",
   "execution_count": 11,
   "id": "fc44d1da",
   "metadata": {},
   "outputs": [
    {
     "data": {
      "text/plain": [
       "{'STD1_D28': 'Coverslip13',\n",
       " '-AO1_D28': 'Coverslip14',\n",
       " '-BNF1_D28': 'Coverslip15',\n",
       " 'STD2_D28': 'Coverslip16',\n",
       " '-AO2_D28': 'Coverslip17',\n",
       " '-BNF2_D28': 'Coverslip18',\n",
       " 'STD1_D21': 'Coverslip7',\n",
       " '-AO1_D21': 'Coverslip8',\n",
       " '-BNF1_D21': 'Coverslip9',\n",
       " '-AO2_D21': 'Coverslip11',\n",
       " '-BNF2_D21': 'Coverslip12',\n",
       " 'STD1_D10': 'Coverslip1',\n",
       " 'STD2_D10': 'Coverslip4',\n",
       " '-AO1_D10': 'Coverslip2',\n",
       " '-BNF1_D10': 'Coverslip3'}"
      ]
     },
     "execution_count": 11,
     "metadata": {},
     "output_type": "execute_result"
    }
   ],
   "source": [
    "# make a mapping dictionary between key and coverslip number\n",
    "mapping = {}\n",
    "# D28\n",
    "mapping['STD1_D28'] = 'Coverslip13'\n",
    "mapping['-AO1_D28'] = 'Coverslip14'\n",
    "mapping['-BNF1_D28'] = 'Coverslip15'\n",
    "mapping['STD2_D28'] = 'Coverslip16'\n",
    "mapping['-AO2_D28'] = 'Coverslip17'\n",
    "mapping['-BNF2_D28'] = 'Coverslip18'\n",
    "\n",
    "# D21\n",
    "mapping['STD1_D21'] = 'Coverslip7'\n",
    "mapping['-AO1_D21'] = 'Coverslip8'\n",
    "mapping['-BNF1_D21'] = 'Coverslip9'\n",
    "mapping['-AO2_D21'] = 'Coverslip11'\n",
    "mapping['-BNF2_D21'] = 'Coverslip12'\n",
    "# D10\n",
    "mapping['STD1_D10'] = 'Coverslip1'\n",
    "mapping['STD2_D10'] = 'Coverslip4'\n",
    "mapping['-AO1_D10'] = 'Coverslip2'\n",
    "#mapping['-AO2_D10'] = 'Coverslip5'\n",
    "mapping['-BNF1_D10'] = 'Coverslip3'\n",
    "mapping"
   ]
  },
  {
   "cell_type": "code",
   "execution_count": 12,
   "id": "6ed5241f",
   "metadata": {},
   "outputs": [
    {
     "name": "stdout",
     "output_type": "stream",
     "text": [
      "3255\n",
      "3255\n",
      "3255\n",
      "3255\n",
      "3255\n",
      "3255\n",
      "3255\n",
      "3255\n",
      "3255\n",
      "3255\n",
      "3255\n",
      "3255\n",
      "3255\n",
      "3255\n",
      "3255\n"
     ]
    }
   ],
   "source": [
    "ref_genes = adatas_raw['STD1_D10'].var_names\n",
    "for key, adata in adatas_raw.items():\n",
    "    ref_genes = ref_genes.intersection(set(adata.var_names))\n",
    "    print(len(ref_genes))"
   ]
  },
  {
   "cell_type": "code",
   "execution_count": 13,
   "id": "b8a53105",
   "metadata": {},
   "outputs": [
    {
     "data": {
      "text/plain": [
       "dict_keys(['STD1_D10', 'STD2_D10', '-AO1_D10', '-BNF1_D10', 'STD1_D21', '-AO1_D21', '-BNF1_D21', '-AO2_D21', '-BNF2_D21', 'STD1_D28', '-AO1_D28', '-BNF1_D28', 'STD2_D28', '-AO2_D28', '-BNF2_D28'])"
      ]
     },
     "execution_count": 13,
     "metadata": {},
     "output_type": "execute_result"
    }
   ],
   "source": [
    "adatas_subset.keys()"
   ]
  },
  {
   "cell_type": "code",
   "execution_count": 14,
   "id": "d6413b29",
   "metadata": {},
   "outputs": [
    {
     "name": "stdout",
     "output_type": "stream",
     "text": [
      "before\n",
      "STD1_D10 (11817, 3255)\n",
      "STD1_D10 (11817, 3255)\n",
      "before\n",
      "STD2_D10 (11404, 3255)\n",
      "STD2_D10 (11404, 3255)\n",
      "before\n",
      "-AO1_D10 (18122, 3255)\n",
      "-AO1_D10 (18122, 3255)\n",
      "before\n",
      "-BNF1_D10 (13456, 3255)\n",
      "-BNF1_D10 (13456, 3255)\n",
      "before\n",
      "STD1_D21 (11097, 3255)\n",
      "STD1_D21 (11097, 3255)\n",
      "before\n",
      "-AO1_D21 (8530, 3255)\n",
      "-AO1_D21 (8530, 3255)\n",
      "before\n",
      "-BNF1_D21 (9633, 3255)\n",
      "-BNF1_D21 (9633, 3255)\n",
      "before\n",
      "-AO2_D21 (6945, 3255)\n",
      "-AO2_D21 (6945, 3255)\n",
      "before\n",
      "-BNF2_D21 (5224, 3255)\n",
      "-BNF2_D21 (5224, 3255)\n",
      "before\n",
      "STD1_D28 (8682, 3255)\n",
      "STD1_D28 (8682, 3255)\n",
      "before\n",
      "-AO1_D28 (10721, 3255)\n",
      "-AO1_D28 (10721, 3255)\n",
      "before\n",
      "-BNF1_D28 (15337, 3255)\n",
      "-BNF1_D28 (15337, 3255)\n",
      "before\n",
      "STD2_D28 (9745, 3255)\n",
      "STD2_D28 (9745, 3255)\n"
     ]
    },
    {
     "name": "stderr",
     "output_type": "stream",
     "text": [
      "/var/folders/s7/fg8686z944s5332vtll29z5h0000gn/T/ipykernel_60380/3988526992.py:18: FutureWarning: X.dtype being converted to np.float32 from float64. In the next version of anndata (0.9) conversion will not be automatic. Pass dtype explicitly to avoid this warning. Pass `AnnData(X, dtype=X.dtype, ...)` to get the future behavour.\n",
      "  adata.raw = adata # save raw measurements\n",
      "/var/folders/s7/fg8686z944s5332vtll29z5h0000gn/T/ipykernel_60380/3988526992.py:18: FutureWarning: X.dtype being converted to np.float32 from float64. In the next version of anndata (0.9) conversion will not be automatic. Pass dtype explicitly to avoid this warning. Pass `AnnData(X, dtype=X.dtype, ...)` to get the future behavour.\n",
      "  adata.raw = adata # save raw measurements\n"
     ]
    },
    {
     "name": "stdout",
     "output_type": "stream",
     "text": [
      "before\n",
      "-AO2_D28 (7085, 3255)\n",
      "-AO2_D28 (7085, 3255)\n",
      "before\n",
      "-BNF2_D28 (8838, 3255)\n",
      "-BNF2_D28 (8838, 3255)\n"
     ]
    },
    {
     "name": "stderr",
     "output_type": "stream",
     "text": [
      "/var/folders/s7/fg8686z944s5332vtll29z5h0000gn/T/ipykernel_60380/3988526992.py:18: FutureWarning: X.dtype being converted to np.float32 from float64. In the next version of anndata (0.9) conversion will not be automatic. Pass dtype explicitly to avoid this warning. Pass `AnnData(X, dtype=X.dtype, ...)` to get the future behavour.\n",
      "  adata.raw = adata # save raw measurements\n"
     ]
    }
   ],
   "source": [
    "# 1) get common features across all batches\n",
    "# 2) for each sample, normalize with control cells. \n",
    "for key, adata in adatas_subset.items():  \n",
    "    print('before')\n",
    "    print(key, adata.shape)\n",
    "    time = key.split('_')[1]\n",
    "    media = key.split('_')[0]\n",
    "    \n",
    "    adata.obs.UMI = [f'{x}_{key}' for x in adata.obs.index.tolist()] # in strings\n",
    "    adata.obs['Time'] = time\n",
    "    adata.obs['Media'] = media\n",
    "    adata.obs['Sample'] = mapping[key]\n",
    "\n",
    "    # keep only common set of features\n",
    "    adata = adata[:, adata.var_names.isin(ref_genes.tolist())]\n",
    "    print(key, adata.shape)   \n",
    "    \n",
    "    adata.raw = adata # save raw measurements\n",
    "    adata.layers['raw'] = adata.X.copy()   "
   ]
  },
  {
   "cell_type": "code",
   "execution_count": 15,
   "id": "daf36dcd",
   "metadata": {},
   "outputs": [],
   "source": [
    "# record batch information\n",
    "adata = adatas_subset['STD1_D10']\n",
    "L = sorted(list(set(adata.obs.FileName_max)))\n",
    "mapL = {}\n",
    "field_names = [f'Field{x}' for x in range(1, 10)]\n",
    "for ii in range(1, 10): # ii = 1,2,3,4,5,6,7,8,9,10\n",
    "    if ii ==1:\n",
    "        mapL[f'Field{ii}'] = L[(ii-1)*25:(ii)*25] # 0 to 25 0\n",
    "    else:\n",
    "        mapL[f'Field{ii}'] = L[(ii-1)*25:(ii)*25] # \n",
    "\n",
    "# create one-hot encoding for Field1, ... Field 9\n",
    "for key, adata in adatas_subset.items():\n",
    "    for field_name in mapL.keys():\n",
    "        # one-hot encoding\n",
    "        adata.obs[field_name] = adata.obs.FileName_max.isin(mapL[field_name])  \n",
    "for key, adata in adatas_subset.items():\n",
    "    fields = [f'Field{x}' for x in range(1,10)] # test.idxmax(axis=1)\n",
    "    adata.obs['Field'] = adata.obs[fields].idxmax(axis=1)    "
   ]
  },
  {
   "cell_type": "code",
   "execution_count": 16,
   "id": "bf0e25e7",
   "metadata": {},
   "outputs": [
    {
     "name": "stdout",
     "output_type": "stream",
     "text": [
      "(156636, 3255)\n"
     ]
    }
   ],
   "source": [
    "# concatenate\n",
    "adata_all = sc.concat(adatas_subset, index_unique = '_')\n",
    "print(adata_all.shape)"
   ]
  },
  {
   "cell_type": "code",
   "execution_count": 19,
   "id": "d6aa4e46",
   "metadata": {},
   "outputs": [
    {
     "name": "stdout",
     "output_type": "stream",
     "text": [
      "(156636, 3255) (156636, 3255)\n"
     ]
    }
   ],
   "source": [
    "# save raw data\n",
    "adata_all.layers['raw'] = adata_all.X.copy()\n",
    "#adata_all.raw = adata_all\n",
    "print(adata_all.layers['raw'].shape, adata_all.shape)"
   ]
  },
  {
   "cell_type": "code",
   "execution_count": 20,
   "id": "618e41b2",
   "metadata": {},
   "outputs": [
    {
     "data": {
      "text/plain": [
       "{0.0, 1.0, 2.0, 3.0, 4.0, 5.0, 6.0, 7.0, 8.0}"
      ]
     },
     "execution_count": 20,
     "metadata": {},
     "output_type": "execute_result"
    }
   ],
   "source": [
    "set(adata_all[:, 'Neighbors_NumberOfNeighbors_10'].X.reshape(-1))"
   ]
  },
  {
   "cell_type": "code",
   "execution_count": 21,
   "id": "1c1e66f6",
   "metadata": {},
   "outputs": [
    {
     "name": "stdout",
     "output_type": "stream",
     "text": [
      "Coverslip9\n"
     ]
    },
    {
     "name": "stderr",
     "output_type": "stream",
     "text": [
      "/var/folders/s7/fg8686z944s5332vtll29z5h0000gn/T/ipykernel_60380/2682928163.py:7: RuntimeWarning: divide by zero encountered in divide\n",
      "  adata_all[adata_all.obs.Sample==sample].X = (adata_all[adata_all.obs.Sample==sample].X - mu)/sigma\n",
      "/var/folders/s7/fg8686z944s5332vtll29z5h0000gn/T/ipykernel_60380/2682928163.py:7: RuntimeWarning: invalid value encountered in divide\n",
      "  adata_all[adata_all.obs.Sample==sample].X = (adata_all[adata_all.obs.Sample==sample].X - mu)/sigma\n"
     ]
    },
    {
     "name": "stdout",
     "output_type": "stream",
     "text": [
      "Coverslip4\n",
      "Coverslip7\n",
      "Coverslip16\n",
      "Coverslip11\n",
      "Coverslip17\n",
      "Coverslip15\n",
      "Coverslip18\n",
      "Coverslip3\n",
      "Coverslip2\n",
      "Coverslip13\n",
      "Coverslip12\n",
      "Coverslip1\n",
      "Coverslip8\n",
      "Coverslip14\n"
     ]
    }
   ],
   "source": [
    "# Scale\n",
    "# Scale\n",
    "for sample in set(adata_all.obs.Sample): # Within each Sample, normalize\n",
    "    print(sample)\n",
    "    mu = adata_all[(adata_all.obs.Sample==sample)&(adata_all.obs.Gene == 'non-target')].X.mean(axis=0)\n",
    "    sigma = adata_all[(adata_all.obs.Sample==sample)&(adata_all.obs.Gene == 'non-target')].X.std(axis=0)\n",
    "    adata_all[adata_all.obs.Sample==sample].X = (adata_all[adata_all.obs.Sample==sample].X - mu)/sigma"
   ]
  },
  {
   "cell_type": "code",
   "execution_count": 22,
   "id": "c21dfca6",
   "metadata": {},
   "outputs": [
    {
     "name": "stdout",
     "output_type": "stream",
     "text": [
      "428\n",
      "126620\n"
     ]
    }
   ],
   "source": [
    "# check nans\n",
    "print(sum(np.isnan(adata_all.X).any(axis=0)))\n",
    "print(sum(np.isnan(adata_all.X).any(axis=1)))"
   ]
  },
  {
   "cell_type": "code",
   "execution_count": 23,
   "id": "3c8cdd87",
   "metadata": {},
   "outputs": [
    {
     "name": "stdout",
     "output_type": "stream",
     "text": [
      "(156636, 2827)\n"
     ]
    }
   ],
   "source": [
    "# remove NANs\n",
    "adata = adata_all # copy over to adata\n",
    "nan_genes_mask = np.isnan(adata.X).any(axis=0)\n",
    "adata = adata[:, ~nan_genes_mask]\n",
    "print(adata.shape)"
   ]
  },
  {
   "cell_type": "code",
   "execution_count": 24,
   "id": "5fa49e38",
   "metadata": {},
   "outputs": [
    {
     "name": "stdout",
     "output_type": "stream",
     "text": [
      "0\n",
      "0\n"
     ]
    }
   ],
   "source": [
    "# santiy check\n",
    "print(sum(np.isnan(adata.X).any(axis=0)))\n",
    "print(sum(np.isnan(adata.X).any(axis=1)))"
   ]
  },
  {
   "cell_type": "code",
   "execution_count": 27,
   "id": "e18fe509",
   "metadata": {},
   "outputs": [
    {
     "name": "stderr",
     "output_type": "stream",
     "text": [
      "/var/folders/s7/fg8686z944s5332vtll29z5h0000gn/T/ipykernel_60380/1922767919.py:2: FutureWarning: X.dtype being converted to np.float32 from float64. In the next version of anndata (0.9) conversion will not be automatic. Pass dtype explicitly to avoid this warning. Pass `AnnData(X, dtype=X.dtype, ...)` to get the future behavour.\n",
      "  adata.layers['raw'] = adata.layers['raw'].astype('float32')\n"
     ]
    }
   ],
   "source": [
    "adata.X = adata.X.astype('float32')\n",
    "adata.layers['raw'] = adata.layers['raw'].astype('float32')"
   ]
  },
  {
   "cell_type": "code",
   "execution_count": 28,
   "id": "88aee6ec",
   "metadata": {},
   "outputs": [],
   "source": [
    "# remove adata_all, adata_test, adatas_subset, adatas_raw, adatas\n",
    "del adata_all"
   ]
  },
  {
   "cell_type": "code",
   "execution_count": 29,
   "id": "3eff8bc0",
   "metadata": {},
   "outputs": [],
   "source": [
    "del adatas, adatas_raw, adatas_subset"
   ]
  },
  {
   "cell_type": "code",
   "execution_count": 29,
   "id": "844a2cb3",
   "metadata": {},
   "outputs": [],
   "source": []
  },
  {
   "cell_type": "markdown",
   "id": "f3916626",
   "metadata": {},
   "source": [
    "## Save data"
   ]
  },
  {
   "cell_type": "code",
   "execution_count": 30,
   "id": "59cbc6c1",
   "metadata": {},
   "outputs": [],
   "source": [
    "adata.write('../adata_integrated/adata_Cellpose_Subset_All_Channels_011425.h5ad')"
   ]
  }
 ],
 "metadata": {
  "kernelspec": {
   "display_name": "Python 3 (ipykernel)",
   "language": "python",
   "name": "python3"
  },
  "language_info": {
   "codemirror_mode": {
    "name": "ipython",
    "version": 3
   },
   "file_extension": ".py",
   "mimetype": "text/x-python",
   "name": "python",
   "nbconvert_exporter": "python",
   "pygments_lexer": "ipython3",
   "version": "3.9.15"
  }
 },
 "nbformat": 4,
 "nbformat_minor": 5
}
