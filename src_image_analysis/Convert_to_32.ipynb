{
 "cells": [
  {
   "cell_type": "markdown",
   "id": "0f1650fb",
   "metadata": {},
   "source": [
    "## Step 1: Convert to float32 csv to make smaller files. 030623"
   ]
  },
  {
   "cell_type": "code",
   "execution_count": 1,
   "id": "b1025a12",
   "metadata": {},
   "outputs": [],
   "source": [
    "import matplotlib.pyplot as plt\n",
    "import matplotlib.patches as patches\n",
    "from pathlib import Path\n",
    "import numpy as np\n",
    "import os\n",
    "import sys\n",
    "import glob\n",
    "import pandas as pd\n",
    "import xml.etree.ElementTree as et\n",
    "import datetime\n",
    "from imageio import volread as imread\n",
    "\n",
    "import tifffile\n",
    "\n",
    "# from pystackreg import StackReg --> don't run this, run this with imlab environment\n",
    "from skimage.filters import threshold_otsu\n",
    "\n",
    "import seaborn as sns\n",
    "#from pystackreg.util import to_uint16\n",
    "\n",
    "from skimage import measure\n",
    "from scipy import stats\n",
    "import umap\n",
    "import scanpy as sc\n",
    "#from umap.umap_ import UMAP"
   ]
  },
  {
   "cell_type": "code",
   "execution_count": 2,
   "id": "38700c6f",
   "metadata": {},
   "outputs": [
    {
     "name": "stdout",
     "output_type": "stream",
     "text": [
      "/Volumes/imagestore/Brian/src\n"
     ]
    }
   ],
   "source": [
    "print(os.getcwd())"
   ]
  },
  {
   "cell_type": "code",
   "execution_count": 3,
   "id": "8c849606",
   "metadata": {},
   "outputs": [
    {
     "data": {
      "text/plain": [
       "['101222_D10_Coverslip1_Processed',\n",
       " '102022_D10_Coverslip2_Reimage_Processed',\n",
       " '101422_D10_Coverslip3_Processed',\n",
       " '102222_D10_Coverslip4_Reimage_Processed',\n",
       " '101922_D10_Coverslip5_Processed']"
      ]
     },
     "execution_count": 3,
     "metadata": {},
     "output_type": "execute_result"
    }
   ],
   "source": [
    "DATAs = ['101222_D10_Coverslip1_Processed','102022_D10_Coverslip2_Reimage_Processed', \n",
    "         '101422_D10_Coverslip3_Processed',\n",
    "        '102222_D10_Coverslip4_Reimage_Processed','101922_D10_Coverslip5_Processed']\n",
    "DATAs"
   ]
  },
  {
   "cell_type": "code",
   "execution_count": 4,
   "id": "3125d570",
   "metadata": {},
   "outputs": [
    {
     "data": {
      "text/plain": [
       "'101922_D10_Coverslip5_Processed'"
      ]
     },
     "execution_count": 4,
     "metadata": {},
     "output_type": "execute_result"
    }
   ],
   "source": [
    "DATA = DATAs[4]\n",
    "DATA"
   ]
  },
  {
   "cell_type": "code",
   "execution_count": 5,
   "id": "9376d082",
   "metadata": {},
   "outputs": [
    {
     "data": {
      "text/plain": [
       "'/Volumes/imagestore/Brian/101922_D10_Coverslip5_Processed'"
      ]
     },
     "execution_count": 5,
     "metadata": {},
     "output_type": "execute_result"
    }
   ],
   "source": [
    "os.chdir(f'../{DATA}')\n",
    "os.getcwd()"
   ]
  },
  {
   "cell_type": "code",
   "execution_count": 6,
   "id": "d65ef3c9",
   "metadata": {},
   "outputs": [
    {
     "data": {
      "text/plain": [
       "211"
      ]
     },
     "execution_count": 6,
     "metadata": {},
     "output_type": "execute_result"
    }
   ],
   "source": [
    "# Load Feature Data\n",
    "CP_DIR = 'cp_output_cellpose'\n",
    "MP_DIR = 'mp_score_max'\n",
    "\n",
    "DATA_DIR = 'max_clean'\n",
    "Compartment = 'Soma_filtered'\n",
    "DATA_TYPE = 'max_clean'\n",
    "META_DIR = 'metadata'\n",
    "\n",
    "_allFOVs = sorted(glob.glob(f'{MP_DIR}/*'))\n",
    "allFOVs = [x.split('F')[-1][:3] for x in _allFOVs]\n",
    "len(allFOVs)"
   ]
  },
  {
   "cell_type": "code",
   "execution_count": 7,
   "id": "710c4c96",
   "metadata": {},
   "outputs": [],
   "source": [
    "# CP_Cellpose_Cytoplasm.csv\n",
    "# CP_Cellpose_Nuclei.csv\n",
    "# CP_Cellpose_Soma_filtered.csv"
   ]
  },
  {
   "cell_type": "code",
   "execution_count": 8,
   "id": "89986ea0",
   "metadata": {},
   "outputs": [
    {
     "data": {
      "text/plain": [
       "'cp_output_cellpose/CP_Cellpose_Cytoplasm.csv'"
      ]
     },
     "execution_count": 8,
     "metadata": {},
     "output_type": "execute_result"
    }
   ],
   "source": [
    "compt = 'Cytoplasm'\n",
    "fname = f'{CP_DIR}/CP_Cellpose_{compt}.csv'\n",
    "fname"
   ]
  },
  {
   "cell_type": "code",
   "execution_count": 9,
   "id": "ab32feb9",
   "metadata": {},
   "outputs": [
    {
     "name": "stdout",
     "output_type": "stream",
     "text": [
      "size beore 2246387352\n",
      "4224 cp_output_cellpose/CP_Cellpose_Soma_filtered.csv (65158, 4248)\n",
      "converting\n",
      "size after 1145477784\n",
      "size beore 2238568392\n",
      "4214 cp_output_cellpose/CP_Cellpose_Cytoplasm.csv (65158, 4233)\n",
      "converting\n",
      "size after 1140265144\n",
      "size beore 2338942404\n",
      "4219 cp_output_cellpose/CP_Cellpose_Nuclei.csv (67953, 4241)\n",
      "converting\n",
      "size after 1192167576\n"
     ]
    }
   ],
   "source": [
    "#for compt in ['SYTO_','Cytoplasm','FilteredNuclei']:\n",
    "for compt in ['Soma_filtered','Cytoplasm', 'Nuclei']:\n",
    "    fname = f'{CP_DIR}/CP_Cellpose_{compt}.csv'\n",
    "    cp_df = pd.read_csv(fname)\n",
    "    float64_cols = list(cp_df.select_dtypes(include='float64'))\n",
    "    print('size beore', sys.getsizeof(cp_df))\n",
    "    print(len(float64_cols), fname, cp_df.shape)\n",
    "    print('converting')\n",
    "    cp_df[float64_cols]=cp_df[float64_cols].astype('float32')\n",
    "    print('size after',sys.getsizeof(cp_df))\n",
    "    cp_df.to_csv(f'{CP_DIR}/CP_Cellpose_{compt}_32.csv', sep=',')"
   ]
  },
  {
   "cell_type": "code",
   "execution_count": null,
   "id": "4e5b614d",
   "metadata": {},
   "outputs": [],
   "source": []
  }
 ],
 "metadata": {
  "kernelspec": {
   "display_name": "Python 3 (ipykernel)",
   "language": "python",
   "name": "python3"
  },
  "language_info": {
   "codemirror_mode": {
    "name": "ipython",
    "version": 3
   },
   "file_extension": ".py",
   "mimetype": "text/x-python",
   "name": "python",
   "nbconvert_exporter": "python",
   "pygments_lexer": "ipython3",
   "version": "3.9.15"
  }
 },
 "nbformat": 4,
 "nbformat_minor": 5
}
